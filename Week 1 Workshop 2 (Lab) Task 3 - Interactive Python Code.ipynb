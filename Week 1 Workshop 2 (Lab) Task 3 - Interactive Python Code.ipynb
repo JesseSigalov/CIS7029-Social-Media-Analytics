{
 "cells": [
  {
   "cell_type": "markdown",
   "metadata": {},
   "source": [
    "# Task 1 - Simple Input"
   ]
  },
  {
   "cell_type": "code",
   "execution_count": 1,
   "metadata": {},
   "outputs": [
    {
     "name": "stdout",
     "output_type": "stream",
     "text": [
      "What is your name? Jesse Sigalov\n",
      "Hello Jesse Sigalov\n"
     ]
    }
   ],
   "source": [
    "person = input(\"What is your name? \")\n",
    "print(\"Hello\", person)"
   ]
  },
  {
   "cell_type": "markdown",
   "metadata": {},
   "source": [
    "# Task 2 - Condition statement I: if-elif"
   ]
  },
  {
   "cell_type": "code",
   "execution_count": 2,
   "metadata": {},
   "outputs": [
    {
     "name": "stdout",
     "output_type": "stream",
     "text": [
      "Please enter an integer: 16\n",
      "You have entered a number more than 10!\n"
     ]
    }
   ],
   "source": [
    "x = int(input(\"Please enter an integer: \"))\n",
    "if x < 0:\n",
    "    x = 0\n",
    "    print('You have entered a negative value!')\n",
    "elif x == 0:\n",
    "    print('You have entered zero')\n",
    "elif x == 1:\n",
    "    print('You have entered one')\n",
    "elif x == 2:\n",
    "    print('You have entered two')\n",
    "elif x == 3:\n",
    "    print('You have entered three')\n",
    "elif x == 4:\n",
    "    print('You have entered four')\n",
    "elif x == 5:\n",
    "    print('You have entered five')\n",
    "elif x == 6:\n",
    "    print('You have entered six')\n",
    "elif x == 7:\n",
    "    print('You have entered seven')\n",
    "elif x == 8:\n",
    "    print('You have entered eight')\n",
    "elif x == 9:\n",
    "    print('You have entered nine')\n",
    "elif x == 10:\n",
    "    print('You have entered ten')\n",
    "else:\n",
    "    x = 10\n",
    "    print('You have entered a number more than 10!')"
   ]
  },
  {
   "cell_type": "markdown",
   "metadata": {},
   "source": [
    "# Task 3 - For Loop with condition"
   ]
  },
  {
   "cell_type": "code",
   "execution_count": 6,
   "metadata": {},
   "outputs": [
    {
     "name": "stdout",
     "output_type": "stream",
     "text": [
      "0\n",
      "1\n",
      "2\n",
      "3\n",
      "4\n"
     ]
    }
   ],
   "source": [
    "for i in range(5):\n",
    "    print(i)"
   ]
  },
  {
   "cell_type": "markdown",
   "metadata": {},
   "source": [
    "<font color = 'blue'><i>There was an error because an indentation block is expected. Python uses indentation to identify levels in blocks of code.</i></font>"
   ]
  },
  {
   "cell_type": "markdown",
   "metadata": {},
   "source": [
    "# Task 4 - Go Challenge I"
   ]
  },
  {
   "cell_type": "code",
   "execution_count": 15,
   "metadata": {},
   "outputs": [
    {
     "name": "stdout",
     "output_type": "stream",
     "text": [
      "Please enter an integer: 180\n",
      "1. 180\n",
      "2. 180\n",
      "3. 180\n",
      "4. 180\n",
      "5. 180\n",
      "6. 180\n",
      "7. 180\n"
     ]
    }
   ],
   "source": [
    "x = int(input(\"Please enter an integer: \"))\n",
    "for i in range (7):\n",
    "    print(f'{i+1}. {x}')"
   ]
  },
  {
   "cell_type": "markdown",
   "metadata": {},
   "source": [
    "# Task 5 - Nested Loop"
   ]
  },
  {
   "cell_type": "code",
   "execution_count": 20,
   "metadata": {},
   "outputs": [
    {
     "name": "stdout",
     "output_type": "stream",
     "text": [
      "1 * 1 = 1\n",
      "1 * 2 = 2\n",
      "2 * 1 = 2\n",
      "2 * 2 = 4\n"
     ]
    }
   ],
   "source": [
    "for x in range(1, 3):\n",
    "    for y in range(1, 3):\n",
    "        print (f'{x} * {y} = {x*y}')"
   ]
  },
  {
   "cell_type": "markdown",
   "metadata": {},
   "source": [
    "# Task 6 - Go Challenge II"
   ]
  },
  {
   "cell_type": "code",
   "execution_count": 2,
   "metadata": {},
   "outputs": [
    {
     "name": "stdout",
     "output_type": "stream",
     "text": [
      "Please enter the tax percentage: 20\n",
      "Please enter the price of the item: 445\n",
      "The price without tax is  356.00\n"
     ]
    }
   ],
   "source": [
    "# Basic calculation in Python II\n",
    "\n",
    "tax = int(input(\"Please enter the tax percentage: \"))\n",
    "price = float(input(\"Please enter the price of the item: \"))\n",
    "\n",
    "tax = tax / 100\n",
    "final = price - price*tax\n",
    "print(\"The price without tax is \", \"{:.2f}\".format(round(final,2)))\n"
   ]
  },
  {
   "cell_type": "markdown",
   "metadata": {},
   "source": [
    "# Task 7 - Go Challenge III"
   ]
  },
  {
   "cell_type": "code",
   "execution_count": 3,
   "metadata": {},
   "outputs": [
    {
     "name": "stdout",
     "output_type": "stream",
     "text": [
      "What's my first name? Jesse\n",
      "Bingo! Your guess is correct!\n"
     ]
    }
   ],
   "source": [
    "# What's my name?\n",
    "\n",
    "for i in range(3):\n",
    "    guess = input(\"What's my first name? \")\n",
    "    if guess.lower() == 'jesse':\n",
    "        print('Bingo! Your guess is correct!')\n",
    "        break;\n",
    "    else:\n",
    "        print(f'Sorry, that\\'s incorrect. Try again. Remaining tries: {2 - i}')"
   ]
  }
 ],
 "metadata": {
  "kernelspec": {
   "display_name": "Python 3",
   "language": "python",
   "name": "python3"
  },
  "language_info": {
   "codemirror_mode": {
    "name": "ipython",
    "version": 3
   },
   "file_extension": ".py",
   "mimetype": "text/x-python",
   "name": "python",
   "nbconvert_exporter": "python",
   "pygments_lexer": "ipython3",
   "version": "3.8.5"
  }
 },
 "nbformat": 4,
 "nbformat_minor": 4
}
